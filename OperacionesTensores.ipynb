{
  "nbformat": 4,
  "nbformat_minor": 0,
  "metadata": {
    "colab": {
      "provenance": []
    },
    "kernelspec": {
      "name": "python3",
      "display_name": "Python 3"
    },
    "accelerator": "GPU"
  },
  "cells": [
    {
      "cell_type": "markdown",
      "metadata": {
        "id": "vhdV0eE-_clQ"
      },
      "source": [
        "##Operaciones con Pythorch\n",
        "+ Autor:Ivan Olvera\n",
        "+ ivanolvera@comunidad.unam.mx\n",
        "+ 5/03/24"
      ]
    },
    {
      "cell_type": "markdown",
      "metadata": {
        "id": "-S9YjS_WGq2K"
      },
      "source": [
        "---\n",
        "Contenido basado en la documentación oficial de Pythorch:\n",
        "- https://pytorch.org/tutorials/\n",
        "\n",
        "---\n",
        "\n"
      ]
    },
    {
      "cell_type": "markdown",
      "metadata": {
        "id": "Oqf3a8mWCxDS"
      },
      "source": [
        "---\n",
        "# Parte I - ¿Qué es Pythorch?\n",
        "---\n",
        "Es un paquete informático científico basado en Python dirigido a dos conjuntos de\n",
        "audiencias:\n",
        "\n",
        "- Un reemplazo de NumPy para usar el poder de cómputo de los GPU.\n",
        "\n",
        "- Una plataforma de investigación de (deep learning) que proporciona máxima flexibilidad y velocidad\n",
        "\n",
        "**Tensores**\n",
        "---------------\n",
        "\n",
        "+ Los tensores son similares a los ndarrays de NumPy, con la adición de que también se pueden usar en un GPU para acelerar los cálculos.\n",
        "\n"
      ]
    },
    {
      "cell_type": "code",
      "metadata": {
        "id": "mhPknTl4_hdA"
      },
      "source": [
        "# Google Colab soporta Pythorch por default\n",
        "import torch"
      ],
      "execution_count": null,
      "outputs": []
    },
    {
      "cell_type": "markdown",
      "metadata": {
        "id": "iRt7njBVL9Qy"
      },
      "source": [
        "\n",
        "**Nota**\n",
        "\n",
        "\n",
        "Se declara una matriz no inicializada, esta matriz no contiene valores definidos antes de su uso. Cuando se crea una matriz no inicializada, los valores que estaban en la memoria asignada en ese momento aparecerán como valores iniciales.\n",
        "\n"
      ]
    },
    {
      "cell_type": "code",
      "metadata": {
        "id": "2AeDK5h6M7Dr",
        "outputId": "566ea06f-f48c-4854-c61c-b2482222434c",
        "colab": {
          "base_uri": "https://localhost:8080/",
          "height": 102
        }
      },
      "source": [
        "# Matriz no inicializada de 5 filas y 3 columnas\n",
        "x = torch.empty(5, 3)\n",
        "print(x)"
      ],
      "execution_count": null,
      "outputs": [
        {
          "output_type": "stream",
          "text": [
            "tensor([[6.3705e-36, 0.0000e+00, 3.3631e-44],\n",
            "        [0.0000e+00,        nan, 0.0000e+00],\n",
            "        [1.1578e+27, 1.1362e+30, 7.1547e+22],\n",
            "        [4.5828e+30, 1.2121e+04, 7.1846e+22],\n",
            "        [9.2198e-39, 7.0374e+22, 2.3885e-36]])\n"
          ],
          "name": "stdout"
        }
      ]
    },
    {
      "cell_type": "markdown",
      "metadata": {
        "id": "2tEKDGjlCxDW"
      },
      "source": [
        "*Construir* una matriz no inicializada de 5x3:\n",
        "\n"
      ]
    },
    {
      "cell_type": "code",
      "metadata": {
        "id": "uZ8-tJv8CxDW",
        "outputId": "b7aaa42d-5aa3-4dcc-dbed-21fb97c4fb6c",
        "colab": {
          "base_uri": "https://localhost:8080/",
          "height": 105
        }
      },
      "source": [
        "x = torch.empty(5, 3)\n",
        "print(x)"
      ],
      "execution_count": null,
      "outputs": [
        {
          "output_type": "stream",
          "text": [
            "tensor([[3.0865e-35, 0.0000e+00, 2.1019e-44],\n",
            "        [0.0000e+00, 1.4013e-45, 0.0000e+00],\n",
            "        [1.3235e-14, 1.8369e+28, 1.9433e-19],\n",
            "        [3.3738e-12, 7.4086e+28, 6.9397e+22],\n",
            "        [1.7260e+25, 2.2856e+20, 5.0948e-14]])\n"
          ],
          "name": "stdout"
        }
      ]
    },
    {
      "cell_type": "markdown",
      "metadata": {
        "id": "Et_UfwThCxDY"
      },
      "source": [
        "Construir una matriz inicializada de forma aleatoria:\n",
        "\n"
      ]
    },
    {
      "cell_type": "code",
      "metadata": {
        "id": "cVuMjDtICxDZ",
        "outputId": "cd8ac60f-ee65-4dd6-e93f-2729e7165ac2",
        "colab": {
          "base_uri": "https://localhost:8080/",
          "height": 102
        }
      },
      "source": [
        "x = torch.rand(5, 3)\n",
        "print(x)"
      ],
      "execution_count": null,
      "outputs": [
        {
          "output_type": "stream",
          "text": [
            "tensor([[0.5908, 0.9852, 0.5177],\n",
            "        [0.0785, 0.8673, 0.3856],\n",
            "        [0.0196, 0.2071, 0.6695],\n",
            "        [0.9903, 0.2001, 0.0550],\n",
            "        [0.8800, 0.4801, 0.7003]])\n"
          ],
          "name": "stdout"
        }
      ]
    },
    {
      "cell_type": "markdown",
      "metadata": {
        "id": "koUSt9msCxDb"
      },
      "source": [
        "Construir una matriz de zeros y de tipo long:\n",
        "\n",
        "- Ver tipos de datos de pythorch en el siguiente [LINK](https://pytorch.org/docs/stable/tensor_attributes.html)\n"
      ]
    },
    {
      "cell_type": "code",
      "metadata": {
        "id": "ZOUjp2oPCxDb",
        "outputId": "d493911d-b2cd-43eb-f4b4-6344bbeffdce",
        "colab": {
          "base_uri": "https://localhost:8080/",
          "height": 102
        }
      },
      "source": [
        "x = torch.zeros(5, 3, dtype=torch.long)\n",
        "print(x)"
      ],
      "execution_count": null,
      "outputs": [
        {
          "output_type": "stream",
          "text": [
            "tensor([[0, 0, 0],\n",
            "        [0, 0, 0],\n",
            "        [0, 0, 0],\n",
            "        [0, 0, 0],\n",
            "        [0, 0, 0]])\n"
          ],
          "name": "stdout"
        }
      ]
    },
    {
      "cell_type": "markdown",
      "metadata": {
        "id": "hzL3er_kCxDf"
      },
      "source": [
        "**Construir un Tensor a partir de datos:**\n",
        "  + Se especifican los elementos entre corchetes. E.g. [1,2,3,5]\n",
        "\n",
        "\n"
      ]
    },
    {
      "cell_type": "code",
      "metadata": {
        "id": "d1d5_tPBCxDf",
        "outputId": "a8fd416e-b242-4bf7-d36d-52914141b66c",
        "colab": {
          "base_uri": "https://localhost:8080/",
          "height": 34
        }
      },
      "source": [
        "x = torch.tensor([5.5, 3])\n",
        "print(x)"
      ],
      "execution_count": null,
      "outputs": [
        {
          "output_type": "stream",
          "text": [
            "tensor([5.5000, 3.0000])\n"
          ],
          "name": "stdout"
        }
      ]
    },
    {
      "cell_type": "markdown",
      "metadata": {
        "id": "XBkJ4CTNCxDh"
      },
      "source": [
        "**Crear un tensor basado en un tensor existente**\n",
        "\n",
        "Este método reutilizá las propiedades del tensor de entrada. E.g. **dtype**, a menos que los nuevos valores se especifiquen por el usuario."
      ]
    },
    {
      "cell_type": "code",
      "metadata": {
        "id": "Mljr-DrzCxDh",
        "outputId": "8789011c-c1d0-47cb-c305-8895d9ef0875",
        "colab": {
          "base_uri": "https://localhost:8080/",
          "height": 187
        }
      },
      "source": [
        "x = x.new_ones(5, 3, dtype=torch.double)      # new_* methods take in sizes\n",
        "print(x)\n",
        "\n",
        "x = torch.randn_like(x, dtype=torch.float)    # sobreescibir dtype!\n",
        "print(x)                                      # el resultado tiene el mismo tamaño."
      ],
      "execution_count": null,
      "outputs": [
        {
          "output_type": "stream",
          "text": [
            "tensor([[1., 1., 1.],\n",
            "        [1., 1., 1.],\n",
            "        [1., 1., 1.],\n",
            "        [1., 1., 1.],\n",
            "        [1., 1., 1.]], dtype=torch.float64)\n",
            "tensor([[-0.6689,  0.2061, -0.9955],\n",
            "        [ 0.8262,  0.9042, -1.6070],\n",
            "        [ 1.0030, -1.0300,  1.0054],\n",
            "        [ 0.8864, -0.1089, -0.4547],\n",
            "        [ 0.3890, -0.4628,  0.1234]])\n"
          ],
          "name": "stdout"
        }
      ]
    },
    {
      "cell_type": "markdown",
      "metadata": {
        "id": "_petMh4HCxDj"
      },
      "source": [
        "**Obtener el tamaño de un tensor:**\n",
        "\n"
      ]
    },
    {
      "cell_type": "code",
      "metadata": {
        "id": "kquZbcVrCxDk",
        "outputId": "49798e20-9908-4a39-f3c8-48d0297bbdce",
        "colab": {
          "base_uri": "https://localhost:8080/",
          "height": 34
        }
      },
      "source": [
        "print(x.size())"
      ],
      "execution_count": null,
      "outputs": [
        {
          "output_type": "stream",
          "text": [
            "torch.Size([5, 3])\n"
          ],
          "name": "stdout"
        }
      ]
    },
    {
      "cell_type": "markdown",
      "metadata": {
        "id": "l2HTTTyjCxDl"
      },
      "source": [
        "<h4>Nota</h4><p>\n",
        "\n",
        "`torch.Size`\n",
        "\n",
        "Es de hecho una tupla, entonces soporta las operaciones de tuplas.</p></div>\n",
        "\n",
        "**Operaciones**\n",
        "\n",
        "Existen múltiples formas de especificar (denotar) operaciones en pythorch. En el siguiente ejemplo, se utilizara la operación de adición.\n",
        "\n",
        "**Suma: sintaxis 1**\n",
        "\n"
      ]
    },
    {
      "cell_type": "code",
      "metadata": {
        "id": "aplA0i7XCxDm",
        "outputId": "2de656d7-7c8e-4e09-c31d-7e89b7398946",
        "colab": {
          "base_uri": "https://localhost:8080/",
          "height": 102
        }
      },
      "source": [
        "y = torch.rand(5, 3)\n",
        "print(x + y)"
      ],
      "execution_count": null,
      "outputs": [
        {
          "output_type": "stream",
          "text": [
            "tensor([[ 0.0589,  0.3920, -0.4778],\n",
            "        [ 0.9252,  1.2146, -1.5929],\n",
            "        [ 1.6415, -0.5918,  1.9436],\n",
            "        [ 1.3936,  0.5005, -0.3690],\n",
            "        [ 1.1917, -0.2710,  0.4629]])\n"
          ],
          "name": "stdout"
        }
      ]
    },
    {
      "cell_type": "markdown",
      "metadata": {
        "id": "R1ToIO68CxDn"
      },
      "source": [
        "**Suma: sintaxis 2**\n",
        "\n"
      ]
    },
    {
      "cell_type": "code",
      "metadata": {
        "id": "J3tplG9LCxDo",
        "outputId": "2824bc05-c9e5-4ead-c920-044ce6d5b71e",
        "colab": {
          "base_uri": "https://localhost:8080/",
          "height": 102
        }
      },
      "source": [
        "print(torch.add(x, y))"
      ],
      "execution_count": null,
      "outputs": [
        {
          "output_type": "stream",
          "text": [
            "tensor([[ 0.0589,  0.3920, -0.4778],\n",
            "        [ 0.9252,  1.2146, -1.5929],\n",
            "        [ 1.6415, -0.5918,  1.9436],\n",
            "        [ 1.3936,  0.5005, -0.3690],\n",
            "        [ 1.1917, -0.2710,  0.4629]])\n"
          ],
          "name": "stdout"
        }
      ]
    },
    {
      "cell_type": "markdown",
      "metadata": {
        "id": "ihXqbCSsCxDq"
      },
      "source": [
        "**Suma: Sintaxis 3**\n",
        "- pasar la variable resultado como un argumento."
      ]
    },
    {
      "cell_type": "code",
      "metadata": {
        "id": "2BQICyCwCxDq",
        "outputId": "87dd9dc5-e572-4a4a-a949-4ee2180b0af1",
        "colab": {
          "base_uri": "https://localhost:8080/",
          "height": 102
        }
      },
      "source": [
        "result = torch.empty(5, 3)\n",
        "torch.add(x, y, out=result)\n",
        "print(result)"
      ],
      "execution_count": null,
      "outputs": [
        {
          "output_type": "stream",
          "text": [
            "tensor([[ 0.0589,  0.3920, -0.4778],\n",
            "        [ 0.9252,  1.2146, -1.5929],\n",
            "        [ 1.6415, -0.5918,  1.9436],\n",
            "        [ 1.3936,  0.5005, -0.3690],\n",
            "        [ 1.1917, -0.2710,  0.4629]])\n"
          ],
          "name": "stdout"
        }
      ]
    },
    {
      "cell_type": "markdown",
      "metadata": {
        "id": "sbAY6KD5CxDs"
      },
      "source": [
        "**Suma: Sintaxis 4**\n",
        "- Operación in-situ\n"
      ]
    },
    {
      "cell_type": "code",
      "metadata": {
        "id": "vwg7JFfBCxDs",
        "outputId": "02b1a4a8-92f6-442f-ae71-c1b4fdce54c1",
        "colab": {
          "base_uri": "https://localhost:8080/",
          "height": 102
        }
      },
      "source": [
        "# adds x to y\n",
        "y.add_(x)\n",
        "print(y)"
      ],
      "execution_count": null,
      "outputs": [
        {
          "output_type": "stream",
          "text": [
            "tensor([[ 0.0589,  0.3920, -0.4778],\n",
            "        [ 0.9252,  1.2146, -1.5929],\n",
            "        [ 1.6415, -0.5918,  1.9436],\n",
            "        [ 1.3936,  0.5005, -0.3690],\n",
            "        [ 1.1917, -0.2710,  0.4629]])\n"
          ],
          "name": "stdout"
        }
      ]
    },
    {
      "cell_type": "markdown",
      "metadata": {
        "id": "GBFmhZG4CxDu"
      },
      "source": [
        "**Nota**\n",
        "\n",
        "Cualquier operación que modifique un tensor in-situ lleva el sufijo `_`\n",
        "\n",
        "Por ejemplo:\n",
        "\n",
        "``x.copy_(y)``, ``x.t_()``, modificarán al tensor ``x``\n",
        "\n",
        "- **¡Es posible utilizar la notación de indexación similar a Numpy!**"
      ]
    },
    {
      "cell_type": "code",
      "metadata": {
        "id": "ZtzvH-KJCxDu",
        "outputId": "f211a06f-e9ed-4b52-d8e4-8f220866d212",
        "colab": {
          "base_uri": "https://localhost:8080/",
          "height": 34
        }
      },
      "source": [
        "print(x[:, 1])"
      ],
      "execution_count": null,
      "outputs": [
        {
          "output_type": "stream",
          "text": [
            "tensor([ 0.2061,  0.9042, -1.0300, -0.1089, -0.4628])\n"
          ],
          "name": "stdout"
        }
      ]
    },
    {
      "cell_type": "markdown",
      "metadata": {
        "id": "kq_HI5WVCxDw"
      },
      "source": [
        "**Modificar el tamaño:** Si es necesario modificar el tamaño o la forma de un tensoer, se puede utilizar:\n",
        "\n",
        "``torch.view``:\n",
        "\n"
      ]
    },
    {
      "cell_type": "code",
      "metadata": {
        "id": "BuUGPsY0CxDx",
        "outputId": "1722267e-4330-45f2-a771-ebc00cdd2b17",
        "colab": {
          "base_uri": "https://localhost:8080/",
          "height": 34
        }
      },
      "source": [
        "x = torch.randn(4, 4)\n",
        "y = x.view(16)\n",
        "z = x.view(-1, 8)  # el tamaño -1 se asigna automáticamente (infiere) de la otra dimensión.\n",
        "print(x.size(), y.size(), z.size())"
      ],
      "execution_count": null,
      "outputs": [
        {
          "output_type": "stream",
          "text": [
            "torch.Size([4, 4]) torch.Size([16]) torch.Size([2, 8])\n"
          ],
          "name": "stdout"
        }
      ]
    },
    {
      "cell_type": "markdown",
      "metadata": {
        "id": "NOzcaxQqCxDz"
      },
      "source": [
        "Si se tiene un único elemento en el tensor, se puede emplear ``.item()`` para obtener el valor como un número de Python."
      ]
    },
    {
      "cell_type": "code",
      "metadata": {
        "id": "McbKRjkKCxD0",
        "outputId": "23061db6-8822-467a-84c3-3708eb0d1549",
        "colab": {
          "base_uri": "https://localhost:8080/",
          "height": 51
        }
      },
      "source": [
        "x = torch.randn(1)\n",
        "print(x)\n",
        "print(x.item())"
      ],
      "execution_count": null,
      "outputs": [
        {
          "output_type": "stream",
          "text": [
            "tensor([-0.2842])\n",
            "-0.28421270847320557\n"
          ],
          "name": "stdout"
        }
      ]
    },
    {
      "cell_type": "markdown",
      "metadata": {
        "id": "h-4nCDUbCxD2"
      },
      "source": [
        "**Revisar más tarde:**\n",
        "\n",
        "  - Más de 100 operaciones con tensores incluidos:\n",
        "    + Transposiciones\n",
        "    + Indexación\n",
        "    + Subconjuntos\n",
        "    + Operaciones matemáticas\n",
        "    + Operaciones de álgebra lineal\n",
        "    + Números aleatorios, etc\n",
        "\n",
        "Todas estas operaciones están descritas\n",
        "  `aquí <https://pytorch.org/docs/torch>`_.\n",
        "\n",
        "Conversión de Torch Tensor a Numpy Array y viceversa\n",
        "---\n",
        "\n",
        "La conversión es muy sencilla\n",
        "\n",
        "El arraglo de Numpy y el Tensor compartirán la ubicación de memoria subyacente\n",
        "(si el tensor de Torch está en el CPU), cambiar un elemento modificará atomáticamente el otro.\n",
        "\n",
        "**Convirtiendo un Tensor Torch a un Numpy Array**"
      ]
    },
    {
      "cell_type": "code",
      "metadata": {
        "id": "EboMC3uuCxD2",
        "outputId": "7aa107f9-d366-49cc-9ad1-6dbc54e6645f",
        "colab": {
          "base_uri": "https://localhost:8080/",
          "height": 34
        }
      },
      "source": [
        "# Torch tensor\n",
        "a = torch.ones(5)\n",
        "print(a)"
      ],
      "execution_count": null,
      "outputs": [
        {
          "output_type": "stream",
          "text": [
            "tensor([1., 1., 1., 1., 1.])\n"
          ],
          "name": "stdout"
        }
      ]
    },
    {
      "cell_type": "code",
      "metadata": {
        "id": "Tml5PfSoCxD4",
        "outputId": "6246e9a9-7f10-4f09-c859-6b5928c04ba6",
        "colab": {
          "base_uri": "https://localhost:8080/",
          "height": 34
        }
      },
      "source": [
        "# Arreglo de numpy\n",
        "b = a.numpy()\n",
        "print(b)"
      ],
      "execution_count": null,
      "outputs": [
        {
          "output_type": "stream",
          "text": [
            "[1. 1. 1. 1. 1.]\n"
          ],
          "name": "stdout"
        }
      ]
    },
    {
      "cell_type": "markdown",
      "metadata": {
        "id": "kgMEmrcdCxD5"
      },
      "source": [
        "\n",
        "Verificar el arraglo de numpy.\n"
      ]
    },
    {
      "cell_type": "code",
      "metadata": {
        "id": "CAbpn-nACxD6",
        "outputId": "ab8a24c9-fd66-49db-f8b5-1160c0111b00",
        "colab": {
          "base_uri": "https://localhost:8080/",
          "height": 51
        }
      },
      "source": [
        "a.add_(1)\n",
        "print(a)\n",
        "print(b)"
      ],
      "execution_count": null,
      "outputs": [
        {
          "output_type": "stream",
          "text": [
            "tensor([4., 4., 4., 4., 4.])\n",
            "[4. 4. 4. 4. 4.]\n"
          ],
          "name": "stdout"
        }
      ]
    },
    {
      "cell_type": "markdown",
      "metadata": {
        "id": "gw8-nAarCxD7"
      },
      "source": [
        "Convirtiendo el arreglo de Numpy a un Tensor Torch\n",
        "---\n",
        "Verificar como el arraglod e Numpy modifica automáticamente al tensor Torch."
      ]
    },
    {
      "cell_type": "code",
      "metadata": {
        "id": "ZZmVxEz1CxD7",
        "outputId": "7465edbc-9153-435b-9f4b-fe149a295016",
        "colab": {
          "base_uri": "https://localhost:8080/",
          "height": 51
        }
      },
      "source": [
        "import numpy as np\n",
        "a = np.ones(5)\n",
        "b = torch.from_numpy(a)\n",
        "np.add(a, 1, out=a)\n",
        "print(a)\n",
        "print(b)"
      ],
      "execution_count": null,
      "outputs": [
        {
          "output_type": "stream",
          "text": [
            "[2. 2. 2. 2. 2.]\n",
            "tensor([2., 2., 2., 2., 2.], dtype=torch.float64)\n"
          ],
          "name": "stdout"
        }
      ]
    },
    {
      "cell_type": "markdown",
      "metadata": {
        "id": "P3uAibk_CxEL"
      },
      "source": [
        "Todos ls tensores que se definen en CPU (con excepción de CharTensor) pueden convertirse a un arreglo de Numpy y viceversa.\n",
        "\n",
        "Tensores de CUDA -> (GPU)\n",
        "------------\n",
        "Los tensores pueden ser movidos a un GPU (device) utilizando el método ``.to``.\n",
        "\n",
        "Sólo podrán ejecutar este código si cuentan con un GPU de NVIDIA y el framework  de CUDA instalado. De lo contrario pueden utilizar Google Colab ``<https://colab.research.google.com/>`` o  Kaggle `<https://www.kaggle.com/>``\n",
        "\n"
      ]
    },
    {
      "cell_type": "code",
      "metadata": {
        "id": "U-NIB8ojCxEN",
        "outputId": "a9017195-d000-4cab-fd41-c015e1c08e69",
        "colab": {
          "base_uri": "https://localhost:8080/",
          "height": 255
        }
      },
      "source": [
        "# se verificará si CUDA está disponible\n",
        "# Se usarán objetos ``torch.device`` para mover objetos al device y viceversa\n",
        "import torch\n",
        "\n",
        "if torch.cuda.is_available():\n",
        "    device = torch.device(\"cuda\")        # Objeto de CUDA device\n",
        "    x = torch.ones(3000,3000)                  # Definición de una matriz de 2x3 de 1s\n",
        "    y = torch.ones_like(x, device=device)  # Crear un tensor directamente en GPU(device)\n",
        "    x = x.to(device)                       # or just use strings ``.to(\"cuda\")``\n",
        "    z = x * y\n",
        "    print(z)\n",
        "    print(z.to(\"cpu\", torch.double))       # ``.to`` permite modificar el tipo de datos!\n",
        "else:\n",
        "    print(\"CUDA no esta disponible :'(\")"
      ],
      "execution_count": null,
      "outputs": [
        {
          "output_type": "stream",
          "text": [
            "tensor([[1., 1., 1.,  ..., 1., 1., 1.],\n",
            "        [1., 1., 1.,  ..., 1., 1., 1.],\n",
            "        [1., 1., 1.,  ..., 1., 1., 1.],\n",
            "        ...,\n",
            "        [1., 1., 1.,  ..., 1., 1., 1.],\n",
            "        [1., 1., 1.,  ..., 1., 1., 1.],\n",
            "        [1., 1., 1.,  ..., 1., 1., 1.]], device='cuda:0')\n",
            "tensor([[1., 1., 1.,  ..., 1., 1., 1.],\n",
            "        [1., 1., 1.,  ..., 1., 1., 1.],\n",
            "        [1., 1., 1.,  ..., 1., 1., 1.],\n",
            "        ...,\n",
            "        [1., 1., 1.,  ..., 1., 1., 1.],\n",
            "        [1., 1., 1.,  ..., 1., 1., 1.],\n",
            "        [1., 1., 1.,  ..., 1., 1., 1.]], dtype=torch.float64)\n"
          ],
          "name": "stdout"
        }
      ]
    }
  ]
}